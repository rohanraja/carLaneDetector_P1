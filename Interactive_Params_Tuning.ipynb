{
 "cells": [
  {
   "cell_type": "markdown",
   "metadata": {},
   "source": [
    "### Test the processImage pipeline on a single image"
   ]
  },
  {
   "cell_type": "code",
   "execution_count": 1,
   "metadata": {
    "scrolled": true
   },
   "outputs": [
    {
     "name": "stdout",
     "output_type": "stream",
     "text": [
      "['test_images/challenge3.png', 'all', 'test_images/challenge1.png', 'test_images/challenge2.png', 'test_images/challenge3.png', 'test_images/challenge4.png', 'test_images/challenge5.png', 'test_images/indian1.jpg', 'test_images/indian2.jpg', 'test_images/indian3.jpg', 'test_images/solidWhiteCurve.jpg', 'test_images/solidWhiteRight.jpg', 'test_images/solidYellowCurve.jpg', 'test_images/solidYellowCurve2.jpg', 'test_images/solidYellowLeft.jpg', 'test_images/whiteCarLaneSwitch.jpg']\n"
     ]
    }
   ],
   "source": [
    "TEST_IMAGE_PATH = \"test_images/challenge3.png\"\n",
    "import os\n",
    "imgs = os.listdir(\"test_images/\")\n",
    "imgs = [\"test_images/\" + x for x in  imgs ]\n",
    "IMAGES = [TEST_IMAGE_PATH, \"all\"]\n",
    "IMAGES = IMAGES + imgs\n",
    "\n",
    "hyperParamsDefault = {\n",
    "    \"blurKernalSize\": (5,1,29,2),  # (value, min, max, step)\n",
    "    \"cannyHT\": (300,0,500,10),\n",
    "    \"cannyLT\": (50,0,500,10),\n",
    "    \"bThresh\": (200,0,255,1),\n",
    "    \"hThresh\": (10,0,100,1),\n",
    "    \"hMinLineLen\": (20,0,100,1),\n",
    "    \"hMaxLineGap\": (1.0,0.0,40.0,0.1),\n",
    "    \"useBrightness\": (True),\n",
    "    \"images\": IMAGES,\n",
    "    \"outputStage\": [\"final\", \"final\", \"gray\", \"blur\", \"canny\", \"hsv\", \"hue\", \"saturation\", \"brightness\", \"bMask\", \"hough\"]\n",
    "}\n",
    "\n",
    "print(IMAGES)"
   ]
  },
  {
   "cell_type": "code",
   "execution_count": 2,
   "metadata": {
    "collapsed": true,
    "scrolled": true
   },
   "outputs": [],
   "source": [
    "#importing some useful packages\n",
    "import matplotlib.pyplot as plt\n",
    "import matplotlib.image as mpimg\n",
    "import numpy as np\n",
    "import cv2\n",
    "import helpers\n",
    "import ipywidgets as widgets\n",
    "from ipywidgets import interact, interactive, fixed, interact_manual\n",
    "\n",
    "%matplotlib inline  \n",
    "%load_ext autoreload\n",
    "%autoreload 2\n",
    "\n",
    "from helpers import *\n",
    "from lanedetector import detectLanes\n",
    "from io import BytesIO\n",
    "from base64 import b64encode\n",
    "from PIL import Image\n",
    "from IPython.core.display import display, HTML\n"
   ]
  },
  {
   "cell_type": "code",
   "execution_count": 3,
   "metadata": {},
   "outputs": [
    {
     "data": {
      "application/javascript": [
       "\n",
       "IPython.OutputArea.prototype._should_scroll = function(lines) {\n",
       "    return false;\n",
       "}\n"
      ],
      "text/plain": [
       "<IPython.core.display.Javascript object>"
      ]
     },
     "metadata": {},
     "output_type": "display_data"
    },
    {
     "name": "stdout",
     "output_type": "stream",
     "text": [
      "autoscrolling long output is disabled\n"
     ]
    }
   ],
   "source": [
    "# Disable Autoscrolling\n",
    "from IPython.display import display, Javascript\n",
    "\n",
    "disable_js = \"\"\"\n",
    "IPython.OutputArea.prototype._should_scroll = function(lines) {\n",
    "    return false;\n",
    "}\n",
    "\"\"\"\n",
    "\n",
    "def load_ipython_extension(ip):\n",
    "    display(Javascript(disable_js))\n",
    "    print (\"autoscrolling long output is disabled\")\n",
    "\n",
    "load_ipython_extension(0)"
   ]
  },
  {
   "cell_type": "code",
   "execution_count": 4,
   "metadata": {
    "collapsed": true,
    "scrolled": true
   },
   "outputs": [],
   "source": [
    "\n",
    "def parseParams(hyParams):\n",
    "    outP = {}\n",
    "    for k in hyParams:\n",
    "        try:\n",
    "            outP[k] = hyParams[k][0]\n",
    "        except:\n",
    "            outP[k] = hyParams[k]\n",
    "    return outP\n",
    "\n",
    "def parseParamsInteract(hyParams):\n",
    "    outP = {}\n",
    "    for k in hyParams:\n",
    "        try:\n",
    "            outP[k] = (hyParams[k][1:])\n",
    "        except:\n",
    "            outP[k] = hyParams[k]\n",
    "    return outP\n",
    "        \n",
    "hyperParams = parseParams(hyperParamsDefault)\n",
    "hyperParamsInteract = parseParamsInteract(hyperParamsDefault)"
   ]
  },
  {
   "cell_type": "code",
   "execution_count": 11,
   "metadata": {
    "collapsed": true,
    "scrolled": true
   },
   "outputs": [],
   "source": [
    "# %load lanedetector.py\n",
    "from helpers import *\n",
    "from Line import *\n",
    "\n",
    "def detectLanes(img, params):\n",
    "\n",
    "    blkrSize = params[\"blurKernalSize\"]\n",
    "    cht = params[\"cannyHT\"]\n",
    "    clt = params[\"cannyLT\"]\n",
    "    stage = params[\"outputStage\"]\n",
    "\n",
    "\n",
    "    hsv = getHSV(img)\n",
    "\n",
    "    bMask = hsv[:,:,2] > params.get(\"bThresh\", 200)\n",
    "\n",
    "    if params[\"useBrightness\"]:\n",
    "        # gray = hsv[:,:,2]\n",
    "        gray = bMask.astype(np.uint8)*255\n",
    "    else:\n",
    "        gray = grayscale(img)\n",
    "\n",
    "    blur = gaussian_blur(gray, kernel_size=blkrSize)\n",
    "       \n",
    "    ht = cht\n",
    "    lt = clt\n",
    "    canny_edges = canny(blur, low_threshold=lt, high_threshold=ht)\n",
    "\n",
    "    #hsv = getHSV(img)\n",
    "    bMask = cv2.bitwise_and(img, img, mask=bMask.astype(np.uint8))\n",
    "    bMask = cv2.cvtColor(bMask, cv2.COLOR_BGR2RGB)\n",
    "\n",
    "\n",
    "    rho = 1 # distance resolution in pixels of the Hough grid\n",
    "    theta = np.pi/180 # angular resolution in radians of the Hough grid\n",
    "    threshold = params.get(\"hThresh\", 10)\n",
    "    min_line_length = params.get(\"hMinLineLen\", 20)\n",
    "    max_line_gap = params.get(\"hMaxLineGap\", 1)\n",
    "\n",
    "    # houghImg = hough_lines(canny_edges, rho, theta, threshold, min_line_length, max_line_gap)\n",
    "\n",
    "\n",
    "    hLines = get_hough_lines(canny_edges, rho, theta, threshold, min_line_length, max_line_gap)\n",
    "    houghImg = draw_hough_lines(canny_edges, hLines)\n",
    "\n",
    "    for l in hLines:\n",
    "        ln = LineFromCVLine(l)\n",
    "        ln.draw(img)\n",
    "\n",
    "\n",
    "    outpDict = {\n",
    "            \"final\": img,\n",
    "            \"blur\": blur,\n",
    "            \"gray\": gray,\n",
    "            \"canny\": canny_edges,\n",
    "            \"hsv\": hsv,\n",
    "            \"brightness\": hsv[:,:,2],\n",
    "            \"hue\": hsv[:,:,1],\n",
    "            \"saturation\": hsv[:,:,0],\n",
    "            \"bMask\": bMask,\n",
    "            \"hough\": houghImg,\n",
    "\n",
    "    }\n",
    "\n",
    "    return outpDict[stage]\n"
   ]
  },
  {
   "cell_type": "code",
   "execution_count": 6,
   "metadata": {
    "collapsed": true,
    "scrolled": true
   },
   "outputs": [],
   "source": [
    "# InLine image display helpers\n",
    "\n",
    "def getPngBytes(img):\n",
    "    pil_im = Image.fromarray(img)\n",
    "    b = BytesIO()  \n",
    "    pil_im.save(b, format='png')\n",
    "    return b.getvalue()\n",
    "    \n",
    "def displaySideBySide(im1, im2):\n",
    "    \n",
    "    im1 = cv2.cvtColor(im1, cv2.COLOR_BGR2RGB)\n",
    "    b1 = getPngBytes(im1)\n",
    "    b2 = getPngBytes(im2)\n",
    "    b641 = b64encode(b1).decode('utf-8')\n",
    "    b642 = b64encode(b2).decode('utf-8')\n",
    "    HTMLDATA = \"<table><tr><td><img src='data:image/png;base64,{0}'/></td><td><img src='data:image/png;base64,{1}'/></td></tr></table>\".format(b641, b642)\n",
    "    display(HTML(HTMLDATA))"
   ]
  },
  {
   "cell_type": "code",
   "execution_count": 7,
   "metadata": {
    "scrolled": true
   },
   "outputs": [
    {
     "name": "stdout",
     "output_type": "stream",
     "text": [
      "{'cannyLT': 50, 'bThresh': 200, 'hMinLineLen': 20, 'useBrightness': False, 'outputStage': 'hough', 'blurKernalSize': 5, 'cannyHT': 300, 'images': 'test_images/challenge3.png', 'hMaxLineGap': 1.0, 'hThresh': 10}\n"
     ]
    }
   ],
   "source": [
    "image = readImg(TEST_IMAGE_PATH)\n",
    "hyperParams[\"outputStage\"] = \"hough\"\n",
    "hyperParams[\"useBrightness\"] = False\n",
    "print(hyperParams)\n",
    "#outP =(detectLanes(image, hyperParams))\n",
    "#displaySideBySide(image, outP)"
   ]
  },
  {
   "cell_type": "code",
   "execution_count": 8,
   "metadata": {
    "scrolled": true
   },
   "outputs": [
    {
     "data": {
      "application/vnd.jupyter.widget-view+json": {
       "model_id": "ecba7c824b674892ad80f337a5a28452"
      }
     },
     "metadata": {},
     "output_type": "display_data"
    }
   ],
   "source": [
    "# Interactive parameter tuning\n",
    "\n",
    "PLAYED_PARAMS = {}\n",
    "\n",
    "def assignDefaults(wids, defVal):\n",
    "    valDict = {}\n",
    "    for wid in wids.children:\n",
    "        try:\n",
    "            valDict[wid.description] = wid\n",
    "        except:\n",
    "            pass\n",
    "    for k in valDict:\n",
    "        try:\n",
    "            valDict[k].value = defVal[k]\n",
    "        except:\n",
    "            pass\n",
    "\n",
    "def processImgPath(imgPath, kwargs):\n",
    "    image = readImg(imgPath)\n",
    "    outP =(detectLanes(image, kwargs))\n",
    "    displaySideBySide(image, outP)\n",
    "\n",
    "def playWithParams(**kwargs):\n",
    "    global PLAYED_PARAMS\n",
    "    PLAYED_PARAMS = kwargs\n",
    "    try:\n",
    "        if kwargs[\"images\"] == \"all\":\n",
    "            for imgPath in IMAGES[2:]:\n",
    "                processImgPath(imgPath, kwargs)\n",
    "        else:\n",
    "            processImgPath(kwargs[\"images\"], kwargs)\n",
    "            \n",
    "    except:\n",
    "        pass\n",
    "        #print \"EXCEPTION!\", e\n",
    "        #outP = image\n",
    "    \n",
    "w = interactive(playWithParams, **hyperParamsInteract)\n",
    "\n",
    "import json\n",
    "with open('params.json', 'r') as fp:\n",
    "    global hyperParams\n",
    "    try:\n",
    "        hyperParams = json.load(fp)\n",
    "    except:\n",
    "        print(\"Failed loading params from params.json file!\")\n",
    "    \n",
    "assignDefaults(w, hyperParams)\n",
    "display(w)\n"
   ]
  },
  {
   "cell_type": "code",
   "execution_count": null,
   "metadata": {
    "collapsed": true
   },
   "outputs": [],
   "source": []
  },
  {
   "cell_type": "code",
   "execution_count": 9,
   "metadata": {
    "scrolled": true
   },
   "outputs": [
    {
     "name": "stdout",
     "output_type": "stream",
     "text": [
      "Params saved to params.json!\n"
     ]
    }
   ],
   "source": [
    "import json\n",
    "\n",
    "def saveParams():\n",
    "    with open('params.json', 'w') as fp:\n",
    "        json.dump(PLAYED_PARAMS, fp)\n",
    "        \n",
    "    print(\"Params saved to params.json!\")\n",
    "# Call this to save the params\n",
    "saveParams()"
   ]
  },
  {
   "cell_type": "code",
   "execution_count": null,
   "metadata": {
    "collapsed": true,
    "scrolled": true
   },
   "outputs": [],
   "source": []
  }
 ],
 "metadata": {
  "kernelspec": {
   "display_name": "Python 2",
   "language": "python",
   "name": "python2"
  },
  "language_info": {
   "codemirror_mode": {
    "name": "ipython",
    "version": 2
   },
   "file_extension": ".py",
   "mimetype": "text/x-python",
   "name": "python",
   "nbconvert_exporter": "python",
   "pygments_lexer": "ipython2",
   "version": "2.7.13"
  }
 },
 "nbformat": 4,
 "nbformat_minor": 2
}
