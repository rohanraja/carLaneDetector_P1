{
 "cells": [
  {
   "cell_type": "markdown",
   "metadata": {},
   "source": [
    "### Test the processImage pipeline on a single image"
   ]
  },
  {
   "cell_type": "code",
   "execution_count": 1,
   "metadata": {},
   "outputs": [
    {
     "name": "stdout",
     "output_type": "stream",
     "text": [
      "['test_images/solidYellowCurve.jpg', 'all', 'test_images/solidWhiteCurve.jpg', 'test_images/solidWhiteRight.jpg', 'test_images/solidYellowCurve.jpg', 'test_images/solidYellowCurve2.jpg', 'test_images/solidYellowLeft.jpg', 'test_images/whiteCarLaneSwitch.jpg']\n"
     ]
    }
   ],
   "source": [
    "TEST_IMAGE_PATH = \"test_images/solidYellowCurve.jpg\"\n",
    "import os\n",
    "imgs = os.listdir(\"test_images/\")\n",
    "imgs = [\"test_images/\" + x for x in  imgs ]\n",
    "IMAGES = [TEST_IMAGE_PATH, \"all\"]\n",
    "IMAGES = IMAGES + imgs\n",
    "\n",
    "hyperParamsDefault = {\n",
    "    \"blurKernalSize\": (5,1,29,2),  # (value, min, max, step)\n",
    "    \"cannyHT\": (300,0,500,10),\n",
    "    \"cannyLT\": (150,0,500,10),\n",
    "    \"images\": IMAGES,\n",
    "    \"outputStage\": [\"final\", \"final\", \"gray\", \"blur\", \"canny\"]\n",
    "}\n"
   ]
  },
  {
   "cell_type": "code",
   "execution_count": 2,
   "metadata": {},
   "outputs": [],
   "source": [
    "#importing some useful packages\n",
    "import matplotlib.pyplot as plt\n",
    "import matplotlib.image as mpimg\n",
    "import numpy as np\n",
    "import cv2\n",
    "import helpers\n",
    "import ipywidgets as widgets\n",
    "from ipywidgets import interact, interactive, fixed, interact_manual\n",
    "\n",
    "%load_ext autoreload\n",
    "%autoreload 2\n",
    "\n",
    "from helpers import *\n",
    "from lanedetector import detectLanes\n",
    "from io import BytesIO\n",
    "from base64 import b64encode\n",
    "from PIL import Image\n",
    "from IPython.core.display import display, HTML\n"
   ]
  },
  {
   "cell_type": "code",
   "execution_count": 3,
   "metadata": {},
   "outputs": [],
   "source": [
    "\n",
    "def parseParams(hyParams):\n",
    "    outP = {}\n",
    "    for k in hyParams:\n",
    "        try:\n",
    "            outP[k] = hyParams[k][0]\n",
    "        except:\n",
    "            outP[k] = hyParams[k]\n",
    "    return outP\n",
    "\n",
    "def parseParamsInteract(hyParams):\n",
    "    outP = {}\n",
    "    for k in hyParams:\n",
    "        try:\n",
    "            outP[k] = (hyParams[k][1:])\n",
    "        except:\n",
    "            outP[k] = hyParams[k]\n",
    "    return outP\n",
    "        \n",
    "hyperParams = parseParams(hyperParamsDefault)\n",
    "hyperParamsInteract = parseParamsInteract(hyperParamsDefault)"
   ]
  },
  {
   "cell_type": "code",
   "execution_count": 4,
   "metadata": {
    "collapsed": true
   },
   "outputs": [],
   "source": [
    "# %load lanedetector.py\n",
    "from helpers import *\n",
    "\n",
    "def detectLanes(img, params):\n",
    "\n",
    "    blkrSize = params[\"blurKernalSize\"]\n",
    "    cht = params[\"cannyHT\"]\n",
    "    clt = params[\"cannyLT\"]\n",
    "    stage = params[\"outputStage\"]\n",
    "\n",
    "    gray = grayscale(img)\n",
    "    blur = gaussian_blur(gray, kernel_size=blkrSize)\n",
    "       \n",
    "    ht = cht\n",
    "    lt = clt\n",
    "    canny_edges = canny(blur, low_threshold=lt, high_threshold=ht)\n",
    "\n",
    "    outpDict = {\n",
    "            \"final\": canny_edges,\n",
    "            \"blur\": blur,\n",
    "            \"gray\": gray,\n",
    "            \"canny\": canny_edges,\n",
    "    }\n",
    "\n",
    "    return outpDict[stage]\n"
   ]
  },
  {
   "cell_type": "code",
   "execution_count": 5,
   "metadata": {
    "collapsed": true
   },
   "outputs": [],
   "source": [
    "# InLine image display helpers\n",
    "\n",
    "def getPngBytes(img):\n",
    "    pil_im = Image.fromarray(img)\n",
    "    b = BytesIO()  \n",
    "    pil_im.save(b, format='png')\n",
    "    return b.getvalue()\n",
    "    \n",
    "def displaySideBySide(im1, im2):\n",
    "    \n",
    "    b1 = getPngBytes(im1)\n",
    "    b2 = getPngBytes(im2)\n",
    "    b641 = b64encode(b1).decode('utf-8')\n",
    "    b642 = b64encode(b2).decode('utf-8')\n",
    "    HTMLDATA = \"<table><tr><td><img src='data:image/png;base64,{0}'/></td><td><img src='data:image/png;base64,{1}'/></td></tr></table>\".format(b641, b642)\n",
    "    display(HTML(HTMLDATA))"
   ]
  },
  {
   "cell_type": "code",
   "execution_count": 6,
   "metadata": {},
   "outputs": [
    {
     "data": {
      "application/vnd.jupyter.widget-view+json": {
       "model_id": "20410d875f68470aaaf483db9a899a43"
      }
     },
     "metadata": {},
     "output_type": "display_data"
    }
   ],
   "source": [
    "# Interactive parameter tuning\n",
    "\n",
    "PLAYED_PARAMS = {}\n",
    "\n",
    "def assignDefaults(wids, defVal):\n",
    "    valDict = {}\n",
    "    for wid in wids.children:\n",
    "        try:\n",
    "            valDict[wid.description] = wid\n",
    "        except:\n",
    "            pass\n",
    "    for k in valDict:\n",
    "        try:\n",
    "            valDict[k].value = defVal[k]\n",
    "        except:\n",
    "            pass\n",
    "\n",
    "def processImgPath(imgPath, kwargs):\n",
    "    image = mpimg.imread(imgPath)\n",
    "    outP =(detectLanes(image, kwargs))\n",
    "    displaySideBySide(image, outP)\n",
    "\n",
    "def playWithParams(**kwargs):\n",
    "    global PLAYED_PARAMS\n",
    "    PLAYED_PARAMS = kwargs\n",
    "    try:\n",
    "        if kwargs[\"images\"] == \"all\":\n",
    "            for imgPath in IMAGES[2:]:\n",
    "                processImgPath(imgPath, kwargs)\n",
    "        else:\n",
    "            processImgPath(kwargs[\"images\"], kwargs)\n",
    "            \n",
    "    except:\n",
    "        pass\n",
    "        #print \"EXCEPTION!\", e\n",
    "        #outP = image\n",
    "    \n",
    "w = interactive(playWithParams, **hyperParamsInteract)\n",
    "\n",
    "import json\n",
    "with open('params.json', 'r') as fp:\n",
    "    global hyperParams\n",
    "    try:\n",
    "        hyperParams = json.load(fp)\n",
    "    except:\n",
    "        print(\"Failed loading params from params.json file!\")\n",
    "    \n",
    "assignDefaults(w, hyperParams)\n",
    "display(w)"
   ]
  },
  {
   "cell_type": "code",
   "execution_count": 7,
   "metadata": {},
   "outputs": [],
   "source": [
    "import json\n",
    "\n",
    "def saveParams():\n",
    "    with open('params.json', 'w') as fp:\n",
    "        json.dump(PLAYED_PARAMS, fp)\n",
    "        \n",
    "    print(\"Params saved to params.json!\")\n",
    "# Call this to save the params\n",
    "#saveParams()"
   ]
  },
  {
   "cell_type": "code",
   "execution_count": null,
   "metadata": {
    "collapsed": true
   },
   "outputs": [],
   "source": []
  }
 ],
 "metadata": {
  "kernelspec": {
   "display_name": "Python 2",
   "language": "python",
   "name": "python2"
  },
  "language_info": {
   "codemirror_mode": {
    "name": "ipython",
    "version": 2
   },
   "file_extension": ".py",
   "mimetype": "text/x-python",
   "name": "python",
   "nbconvert_exporter": "python",
   "pygments_lexer": "ipython2",
   "version": "2.7.13"
  }
 },
 "nbformat": 4,
 "nbformat_minor": 2
}
