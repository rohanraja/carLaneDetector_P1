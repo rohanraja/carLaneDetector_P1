{
 "cells": [
  {
   "cell_type": "markdown",
   "metadata": {},
   "source": [
    "### Test the processImage pipeline on a single image"
   ]
  },
  {
   "cell_type": "code",
   "execution_count": 1,
   "metadata": {
    "scrolled": true
   },
   "outputs": [
    {
     "name": "stdout",
     "output_type": "stream",
     "text": [
      "['test_images/challenge1.png', 'all', 'test_images/challenge1.png', 'test_images/challenge2.png', 'test_images/challenge3.png', 'test_images/solidWhiteCurve.jpg', 'test_images/solidWhiteRight.jpg', 'test_images/solidYellowCurve.jpg', 'test_images/solidYellowCurve2.jpg', 'test_images/solidYellowLeft.jpg', 'test_images/whiteCarLaneSwitch.jpg']\n"
     ]
    }
   ],
   "source": [
    "TEST_IMAGE_PATH = \"test_images/challenge1.png\"\n",
    "import os\n",
    "imgs = os.listdir(\"test_images/\")\n",
    "imgs = [\"test_images/\" + x for x in  imgs ]\n",
    "IMAGES = [TEST_IMAGE_PATH, \"all\"]\n",
    "IMAGES = IMAGES + imgs\n",
    "\n",
    "hyperParamsDefault = {\n",
    "    \"blurKernalSize\": (5,1,29,2),  # (value, min, max, step)\n",
    "    \"cannyHT\": (300,0,500,10),\n",
    "    \"cannyLT\": (150,0,500,10),\n",
    "    \"images\": IMAGES,\n",
    "    \"outputStage\": [\"final\", \"final\", \"gray\", \"blur\", \"canny\"]\n",
    "}\n",
    "\n",
    "print(IMAGES)"
   ]
  },
  {
   "cell_type": "code",
   "execution_count": 2,
   "metadata": {
    "scrolled": true
   },
   "outputs": [
    {
     "ename": "ModuleNotFoundError",
     "evalue": "No module named 'PIL'",
     "output_type": "error",
     "traceback": [
      "\u001b[0;31m---------------------------------------------------------------------------\u001b[0m",
      "\u001b[0;31mModuleNotFoundError\u001b[0m                       Traceback (most recent call last)",
      "\u001b[0;32m<ipython-input-2-7991555d2038>\u001b[0m in \u001b[0;36m<module>\u001b[0;34m()\u001b[0m\n\u001b[1;32m     16\u001b[0m \u001b[0;32mfrom\u001b[0m \u001b[0mio\u001b[0m \u001b[0;32mimport\u001b[0m \u001b[0mBytesIO\u001b[0m\u001b[0;34m\u001b[0m\u001b[0m\n\u001b[1;32m     17\u001b[0m \u001b[0;32mfrom\u001b[0m \u001b[0mbase64\u001b[0m \u001b[0;32mimport\u001b[0m \u001b[0mb64encode\u001b[0m\u001b[0;34m\u001b[0m\u001b[0m\n\u001b[0;32m---> 18\u001b[0;31m \u001b[0;32mfrom\u001b[0m \u001b[0mPIL\u001b[0m \u001b[0;32mimport\u001b[0m \u001b[0mImage\u001b[0m\u001b[0;34m\u001b[0m\u001b[0m\n\u001b[0m\u001b[1;32m     19\u001b[0m \u001b[0;32mfrom\u001b[0m \u001b[0mIPython\u001b[0m\u001b[0;34m.\u001b[0m\u001b[0mcore\u001b[0m\u001b[0;34m.\u001b[0m\u001b[0mdisplay\u001b[0m \u001b[0;32mimport\u001b[0m \u001b[0mdisplay\u001b[0m\u001b[0;34m,\u001b[0m \u001b[0mHTML\u001b[0m\u001b[0;34m\u001b[0m\u001b[0m\n",
      "\u001b[0;31mModuleNotFoundError\u001b[0m: No module named 'PIL'"
     ]
    }
   ],
   "source": [
    "#importing some useful packages\n",
    "import matplotlib.pyplot as plt\n",
    "import matplotlib.image as mpimg\n",
    "import numpy as np\n",
    "import cv2\n",
    "import helpers\n",
    "import ipywidgets as widgets\n",
    "from ipywidgets import interact, interactive, fixed, interact_manual\n",
    "\n",
    "%matplotlib inline  \n",
    "%load_ext autoreload\n",
    "%autoreload 2\n",
    "\n",
    "from helpers import *\n",
    "from lanedetector import detectLanes\n",
    "from io import BytesIO\n",
    "from base64 import b64encode\n",
    "from PIL import Image\n",
    "from IPython.core.display import display, HTML\n"
   ]
  },
  {
   "cell_type": "code",
   "execution_count": 3,
   "metadata": {},
   "outputs": [
    {
     "data": {
      "application/javascript": [
       "\n",
       "IPython.OutputArea.prototype._should_scroll = function(lines) {\n",
       "    return false;\n",
       "}\n"
      ],
      "text/plain": [
       "<IPython.core.display.Javascript object>"
      ]
     },
     "metadata": {},
     "output_type": "display_data"
    },
    {
     "name": "stdout",
     "output_type": "stream",
     "text": [
      "autoscrolling long output is disabled\n"
     ]
    }
   ],
   "source": [
    "# Disable Autoscrolling\n",
    "from IPython.display import display, Javascript\n",
    "\n",
    "disable_js = \"\"\"\n",
    "IPython.OutputArea.prototype._should_scroll = function(lines) {\n",
    "    return false;\n",
    "}\n",
    "\"\"\"\n",
    "\n",
    "def load_ipython_extension(ip):\n",
    "    display(Javascript(disable_js))\n",
    "    print (\"autoscrolling long output is disabled\")\n",
    "\n",
    "load_ipython_extension(0)"
   ]
  },
  {
   "cell_type": "code",
   "execution_count": 4,
   "metadata": {
    "scrolled": true
   },
   "outputs": [],
   "source": [
    "\n",
    "def parseParams(hyParams):\n",
    "    outP = {}\n",
    "    for k in hyParams:\n",
    "        try:\n",
    "            outP[k] = hyParams[k][0]\n",
    "        except:\n",
    "            outP[k] = hyParams[k]\n",
    "    return outP\n",
    "\n",
    "def parseParamsInteract(hyParams):\n",
    "    outP = {}\n",
    "    for k in hyParams:\n",
    "        try:\n",
    "            outP[k] = (hyParams[k][1:])\n",
    "        except:\n",
    "            outP[k] = hyParams[k]\n",
    "    return outP\n",
    "        \n",
    "hyperParams = parseParams(hyperParamsDefault)\n",
    "hyperParamsInteract = parseParamsInteract(hyperParamsDefault)"
   ]
  },
  {
   "cell_type": "code",
   "execution_count": 5,
   "metadata": {
    "scrolled": true
   },
   "outputs": [],
   "source": [
    "# %load lanedetector.py\n",
    "from helpers import *\n",
    "\n",
    "def detectLanes(img, params):\n",
    "\n",
    "    blkrSize = params[\"blurKernalSize\"]\n",
    "    cht = params[\"cannyHT\"]\n",
    "    clt = params[\"cannyLT\"]\n",
    "    stage = params[\"outputStage\"]\n",
    "\n",
    "    gray = grayscale(img)\n",
    "    blur = gaussian_blur(gray, kernel_size=blkrSize)\n",
    "       \n",
    "    ht = cht\n",
    "    lt = clt\n",
    "    canny_edges = canny(blur, low_threshold=lt, high_threshold=ht)\n",
    "\n",
    "    outpDict = {\n",
    "            \"final\": canny_edges,\n",
    "            \"blur\": blur,\n",
    "            \"gray\": gray,\n",
    "            \"canny\": canny_edges,\n",
    "    }\n",
    "\n",
    "    return outpDict[stage]\n"
   ]
  },
  {
   "cell_type": "code",
   "execution_count": 6,
   "metadata": {
    "scrolled": true
   },
   "outputs": [
    {
     "ename": "NameError",
     "evalue": "name 'displaySideBySide' is not defined",
     "output_type": "error",
     "traceback": [
      "\u001b[0;31m---------------------------------------------------------------------------\u001b[0m",
      "\u001b[0;31mNameError\u001b[0m                                 Traceback (most recent call last)",
      "\u001b[0;32m<ipython-input-6-ead10f203584>\u001b[0m in \u001b[0;36m<module>\u001b[0;34m()\u001b[0m\n\u001b[1;32m      1\u001b[0m \u001b[0mimage\u001b[0m \u001b[0;34m=\u001b[0m \u001b[0mreadImg\u001b[0m\u001b[0;34m(\u001b[0m\u001b[0mTEST_IMAGE_PATH\u001b[0m\u001b[0;34m)\u001b[0m\u001b[0;34m\u001b[0m\u001b[0m\n\u001b[1;32m      2\u001b[0m \u001b[0moutP\u001b[0m \u001b[0;34m=\u001b[0m\u001b[0;34m(\u001b[0m\u001b[0mdetectLanes\u001b[0m\u001b[0;34m(\u001b[0m\u001b[0mimage\u001b[0m\u001b[0;34m,\u001b[0m \u001b[0mhyperParams\u001b[0m\u001b[0;34m)\u001b[0m\u001b[0;34m)\u001b[0m\u001b[0;34m\u001b[0m\u001b[0m\n\u001b[0;32m----> 3\u001b[0;31m \u001b[0mdisplaySideBySide\u001b[0m\u001b[0;34m(\u001b[0m\u001b[0mimage\u001b[0m\u001b[0;34m,\u001b[0m \u001b[0moutP\u001b[0m\u001b[0;34m)\u001b[0m\u001b[0;34m\u001b[0m\u001b[0m\n\u001b[0m",
      "\u001b[0;31mNameError\u001b[0m: name 'displaySideBySide' is not defined"
     ]
    }
   ],
   "source": [
    "image = readImg(TEST_IMAGE_PATH)\n",
    "outP =(detectLanes(image, hyperParams))\n",
    "displaySideBySide(image, outP)"
   ]
  },
  {
   "cell_type": "code",
   "execution_count": 7,
   "metadata": {
    "scrolled": true
   },
   "outputs": [],
   "source": [
    "# InLine image display helpers\n",
    "\n",
    "def getPngBytes(img):\n",
    "    pil_im = Image.fromarray(img)\n",
    "    b = BytesIO()  \n",
    "    pil_im.save(b, format='png')\n",
    "    return b.getvalue()\n",
    "    \n",
    "def displaySideBySide(im1, im2):\n",
    "    \n",
    "    b1 = getPngBytes(im1)\n",
    "    b2 = getPngBytes(im2)\n",
    "    b641 = b64encode(b1).decode('utf-8')\n",
    "    b642 = b64encode(b2).decode('utf-8')\n",
    "    HTMLDATA = \"<table><tr><td><img src='data:image/png;base64,{0}'/></td><td><img src='data:image/png;base64,{1}'/></td></tr></table>\".format(b641, b642)\n",
    "    display(HTML(HTMLDATA))"
   ]
  },
  {
   "cell_type": "code",
   "execution_count": 8,
   "metadata": {
    "scrolled": true
   },
   "outputs": [
    {
     "data": {
      "application/vnd.jupyter.widget-view+json": {
       "model_id": "8e9ceebed182481ab093da9adc0e5173",
       "version_major": 2,
       "version_minor": 0
      },
      "text/html": [
       "<p>Failed to display Jupyter Widget of type <code>interactive</code>.</p>\n",
       "<p>\n",
       "  If you're reading this message in the Jupyter Notebook or JupyterLab Notebook, it may mean\n",
       "  that the widgets JavaScript is still loading. If this message persists, it\n",
       "  likely means that the widgets JavaScript library is either not installed or\n",
       "  not enabled. See the <a href=\"https://ipywidgets.readthedocs.io/en/stable/user_install.html\">Jupyter\n",
       "  Widgets Documentation</a> for setup instructions.\n",
       "</p>\n",
       "<p>\n",
       "  If you're reading this message in another frontend (for example, a static\n",
       "  rendering on GitHub or <a href=\"https://nbviewer.jupyter.org/\">NBViewer</a>),\n",
       "  it may mean that your frontend doesn't currently support widgets.\n",
       "</p>\n"
      ],
      "text/plain": [
       "interactive(children=(IntSlider(value=15, description='blurKernalSize', max=29, min=1, step=2), IntSlider(value=250, description='cannyHT', max=500, step=10), IntSlider(value=250, description='cannyLT', max=500, step=10), Dropdown(description='images', options=('all', 'test_images/challenge1.png', 'test_images/challenge2.png', 'test_images/challenge3.png', 'test_images/solidWhiteCurve.jpg', 'test_images/solidWhiteRight.jpg', 'test_images/solidYellowCurve.jpg', 'test_images/solidYellowCurve2.jpg', 'test_images/solidYellowLeft.jpg', 'test_images/whiteCarLaneSwitch.jpg'), value='all'), Dropdown(description='outputStage', options=('final', 'gray', 'blur', 'canny'), value='final'), Output()), _dom_classes=('widget-interact',))"
      ]
     },
     "metadata": {},
     "output_type": "display_data"
    }
   ],
   "source": [
    "# Interactive parameter tuning\n",
    "\n",
    "PLAYED_PARAMS = {}\n",
    "\n",
    "def assignDefaults(wids, defVal):\n",
    "    valDict = {}\n",
    "    for wid in wids.children:\n",
    "        try:\n",
    "            valDict[wid.description] = wid\n",
    "        except:\n",
    "            pass\n",
    "    for k in valDict:\n",
    "        try:\n",
    "            valDict[k].value = defVal[k]\n",
    "        except:\n",
    "            pass\n",
    "\n",
    "def processImgPath(imgPath, kwargs):\n",
    "    image = readImg(imgPath)\n",
    "    outP =(detectLanes(image, kwargs))\n",
    "    displaySideBySide(image, outP)\n",
    "\n",
    "def playWithParams(**kwargs):\n",
    "    global PLAYED_PARAMS\n",
    "    PLAYED_PARAMS = kwargs\n",
    "    try:\n",
    "        if kwargs[\"images\"] == \"all\":\n",
    "            for imgPath in IMAGES[2:]:\n",
    "                processImgPath(imgPath, kwargs)\n",
    "        else:\n",
    "            processImgPath(kwargs[\"images\"], kwargs)\n",
    "            \n",
    "    except:\n",
    "        pass\n",
    "        #print \"EXCEPTION!\", e\n",
    "        #outP = image\n",
    "    \n",
    "w = interactive(playWithParams, **hyperParamsInteract)\n",
    "\n",
    "import json\n",
    "with open('params.json', 'r') as fp:\n",
    "    global hyperParams\n",
    "    try:\n",
    "        hyperParams = json.load(fp)\n",
    "    except:\n",
    "        print(\"Failed loading params from params.json file!\")\n",
    "    \n",
    "assignDefaults(w, hyperParams)\n",
    "display(w)\n"
   ]
  },
  {
   "cell_type": "code",
   "execution_count": 6,
   "metadata": {
    "scrolled": true
   },
   "outputs": [
    {
     "name": "stdout",
     "output_type": "stream",
     "text": [
      "Params saved to params.json!\n"
     ]
    }
   ],
   "source": [
    "import json\n",
    "\n",
    "def saveParams():\n",
    "    with open('params.json', 'w') as fp:\n",
    "        json.dump(PLAYED_PARAMS, fp)\n",
    "        \n",
    "    print(\"Params saved to params.json!\")\n",
    "# Call this to save the params\n",
    "saveParams()"
   ]
  },
  {
   "cell_type": "code",
   "execution_count": null,
   "metadata": {
    "scrolled": true
   },
   "outputs": [],
   "source": []
  },
  {
   "cell_type": "code",
   "execution_count": null,
   "metadata": {
    "collapsed": true,
    "scrolled": true
   },
   "outputs": [],
   "source": []
  }
 ],
 "metadata": {
  "kernelspec": {
   "display_name": "Python 3",
   "language": "python",
   "name": "python3"
  },
  "language_info": {
   "codemirror_mode": {
    "name": "ipython",
    "version": 3
   },
   "file_extension": ".py",
   "mimetype": "text/x-python",
   "name": "python",
   "nbconvert_exporter": "python",
   "pygments_lexer": "ipython3",
   "version": "3.6.4"
  }
 },
 "nbformat": 4,
 "nbformat_minor": 2
}
