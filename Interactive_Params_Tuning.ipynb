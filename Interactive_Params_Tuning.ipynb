{
 "cells": [
  {
   "cell_type": "markdown",
   "metadata": {},
   "source": [
    "### Test the processImage pipeline on a single image"
   ]
  },
  {
   "cell_type": "code",
   "execution_count": 15,
   "metadata": {
    "collapsed": true,
    "scrolled": true
   },
   "outputs": [],
   "source": [
    "TEST_IMAGE_PATH = \"test_images/challenge3.png\"\n",
    "import os\n",
    "imgs = os.listdir(\"test_images/\")\n",
    "imgs = [\"test_images/\" + x for x in  imgs ]\n",
    "IMAGES = [TEST_IMAGE_PATH, \"all\"]\n",
    "IMAGES = IMAGES + imgs\n",
    "\n",
    "hyperParamsDefault = {\n",
    "    \"blurKernalSize\": (5,1,29,2),  # (value, min, max, step)\n",
    "    \"cannyHT\": (300,0,500,10),\n",
    "    \"cannyLT\": (50,0,500,10),\n",
    "    \"bThresh\": (200,0,255,1),\n",
    "    \"hThresh\": (10,0,100,1),\n",
    "    \"hMinLineLen\": (20,0,100,1),\n",
    "    \"hMaxLineGap\": (1.0,0.0,40.0,0.1),\n",
    "    \"useBrightness\": (True),\n",
    "    \"images\": IMAGES,\n",
    "    \"outputStage\": [\"final\", \"final\", \"gray\", \"blur\", \"canny\", \"hsv\", \"hue\", \"saturation\", \"brightness\", \"bMask\", \"hough\", \"linedImg\"]\n",
    "}\n"
   ]
  },
  {
   "cell_type": "code",
   "execution_count": 16,
   "metadata": {
    "scrolled": true
   },
   "outputs": [
    {
     "name": "stdout",
     "output_type": "stream",
     "text": [
      "The autoreload extension is already loaded. To reload it, use:\n",
      "  %reload_ext autoreload\n"
     ]
    }
   ],
   "source": [
    "#importing some useful packages\n",
    "import matplotlib.pyplot as plt\n",
    "import matplotlib.image as mpimg\n",
    "import numpy as np\n",
    "import cv2\n",
    "import helpers\n",
    "import ipywidgets as widgets\n",
    "from ipywidgets import interact, interactive, fixed, interact_manual\n",
    "\n",
    "%matplotlib inline  \n",
    "%load_ext autoreload\n",
    "%autoreload 2\n",
    "\n",
    "from helpers import *\n",
    "from lanedetector import detectLanes\n",
    "from io import BytesIO\n",
    "from base64 import b64encode\n",
    "from PIL import Image\n",
    "from IPython.core.display import display, HTML\n"
   ]
  },
  {
   "cell_type": "code",
   "execution_count": 17,
   "metadata": {},
   "outputs": [
    {
     "data": {
      "application/javascript": [
       "\n",
       "IPython.OutputArea.prototype._should_scroll = function(lines) {\n",
       "    return false;\n",
       "}\n"
      ],
      "text/plain": [
       "<IPython.core.display.Javascript object>"
      ]
     },
     "metadata": {},
     "output_type": "display_data"
    },
    {
     "name": "stdout",
     "output_type": "stream",
     "text": [
      "autoscrolling long output is disabled\n"
     ]
    }
   ],
   "source": [
    "# Disable Autoscrolling\n",
    "from IPython.display import display, Javascript\n",
    "\n",
    "disable_js = \"\"\"\n",
    "IPython.OutputArea.prototype._should_scroll = function(lines) {\n",
    "    return false;\n",
    "}\n",
    "\"\"\"\n",
    "\n",
    "def load_ipython_extension(ip):\n",
    "    display(Javascript(disable_js))\n",
    "    print (\"autoscrolling long output is disabled\")\n",
    "\n",
    "load_ipython_extension(0)"
   ]
  },
  {
   "cell_type": "code",
   "execution_count": 18,
   "metadata": {
    "collapsed": true,
    "scrolled": true
   },
   "outputs": [],
   "source": [
    "\n",
    "def parseParams(hyParams):\n",
    "    outP = {}\n",
    "    for k in hyParams:\n",
    "        try:\n",
    "            outP[k] = hyParams[k][0]\n",
    "        except:\n",
    "            outP[k] = hyParams[k]\n",
    "    return outP\n",
    "\n",
    "def parseParamsInteract(hyParams):\n",
    "    outP = {}\n",
    "    for k in hyParams:\n",
    "        try:\n",
    "            outP[k] = (hyParams[k][1:])\n",
    "        except:\n",
    "            outP[k] = hyParams[k]\n",
    "    return outP\n",
    "        \n",
    "hyperParams = parseParams(hyperParamsDefault)\n",
    "hyperParamsInteract = parseParamsInteract(hyperParamsDefault)"
   ]
  },
  {
   "cell_type": "code",
   "execution_count": 19,
   "metadata": {
    "collapsed": true,
    "scrolled": true
   },
   "outputs": [],
   "source": [
    "# InLine image display helpers\n",
    "\n",
    "def getPngBytes(img):\n",
    "    pil_im = Image.fromarray(img)\n",
    "    b = BytesIO()  \n",
    "    pil_im.save(b, format='png')\n",
    "    return b.getvalue()\n",
    "    \n",
    "def displaySideBySide(im1, im2):\n",
    "    \n",
    "    im1 = cv2.cvtColor(im1, cv2.COLOR_BGR2RGB)\n",
    "    b1 = getPngBytes(im1)\n",
    "    b2 = getPngBytes(im2)\n",
    "    b641 = b64encode(b1).decode('utf-8')\n",
    "    b642 = b64encode(b2).decode('utf-8')\n",
    "    HTMLDATA = \"<table><tr><td><img src='data:image/png;base64,{0}'/></td><td><img src='data:image/png;base64,{1}'/></td></tr></table>\".format(b641, b642)\n",
    "    display(HTML(HTMLDATA))"
   ]
  },
  {
   "cell_type": "code",
   "execution_count": 28,
   "metadata": {
    "scrolled": true
   },
   "outputs": [
    {
     "data": {
      "application/vnd.jupyter.widget-view+json": {
       "model_id": "303fd8ff7f694cdfb92f8ed74d374286",
       "version_major": 2,
       "version_minor": 0
      },
      "text/plain": [
       "A Jupyter Widget"
      ]
     },
     "metadata": {},
     "output_type": "display_data"
    }
   ],
   "source": [
    "# Interactive parameter tuning\n",
    "\n",
    "PLAYED_PARAMS = {}\n",
    "\n",
    "def assignDefaults(wids, defVal):\n",
    "    valDict = {}\n",
    "    for wid in wids.children:\n",
    "        try:\n",
    "            valDict[wid.description] = wid\n",
    "        except:\n",
    "            pass\n",
    "    for k in valDict:\n",
    "        try:\n",
    "            valDict[k].value = defVal[k]\n",
    "        except:\n",
    "            pass\n",
    "\n",
    "def processImgPath(imgPath, kwargs):\n",
    "    image = readImg(imgPath)\n",
    "    outP =(detectLanes(image, kwargs))\n",
    "    displaySideBySide(image, outP)\n",
    "\n",
    "def playWithParams(**kwargs):\n",
    "    global PLAYED_PARAMS\n",
    "    PLAYED_PARAMS = kwargs\n",
    "    if 'prevLines' in kwargs: del kwargs['prevLines']\n",
    "    try:\n",
    "        if kwargs[\"images\"] == \"all\":\n",
    "            for imgPath in IMAGES[2:]:\n",
    "                if 'prevLines' in kwargs: del kwargs['prevLines']\n",
    "                processImgPath(imgPath, kwargs)\n",
    "        else:\n",
    "            if 'prevLines' in kwargs: del kwargs['prevLines']\n",
    "            processImgPath(kwargs[\"images\"], kwargs)\n",
    "            \n",
    "    except:\n",
    "        pass\n",
    "        #print \"EXCEPTION!\", e\n",
    "        #outP = image\n",
    "    \n",
    "w = interactive(playWithParams, **hyperParamsInteract)\n",
    "\n",
    "import json\n",
    "with open('params.json', 'r') as fp:\n",
    "    global hyperParams\n",
    "    try:\n",
    "        hyperParams = json.load(fp)\n",
    "    except:\n",
    "        print(\"Failed loading params from params.json file!\")\n",
    "    \n",
    "assignDefaults(w, hyperParams)\n",
    "display(w)\n"
   ]
  },
  {
   "cell_type": "code",
   "execution_count": 31,
   "metadata": {},
   "outputs": [
    {
     "data": {
      "text/plain": [
       "{'bThresh': 220,\n",
       " 'blurKernalSize': 9,\n",
       " 'cannyHT': 270,\n",
       " 'cannyLT': 60,\n",
       " 'hMaxLineGap': 25.2,\n",
       " 'hMinLineLen': 9,\n",
       " 'hThresh': 27,\n",
       " 'images': 'all',\n",
       " 'maskLineThickness': 8,\n",
       " 'minY': 450,\n",
       " 'outputStage': 'final',\n",
       " 'useBrightness': True}"
      ]
     },
     "execution_count": 31,
     "metadata": {},
     "output_type": "execute_result"
    }
   ],
   "source": [
    "PLAYED_PARAMS"
   ]
  },
  {
   "cell_type": "code",
   "execution_count": 33,
   "metadata": {
    "scrolled": true
   },
   "outputs": [
    {
     "name": "stdout",
     "output_type": "stream",
     "text": [
      "Params saved to params.json!\n"
     ]
    }
   ],
   "source": [
    "import json\n",
    "\n",
    "def saveParams():\n",
    "    with open('params.json', 'w') as fp:\n",
    "        json.dump(PLAYED_PARAMS, fp)\n",
    "        \n",
    "    print(\"Params saved to params.json!\")\n",
    "# Call this to save the params\n",
    "saveParams()"
   ]
  },
  {
   "cell_type": "code",
   "execution_count": null,
   "metadata": {
    "collapsed": true,
    "scrolled": true
   },
   "outputs": [],
   "source": []
  },
  {
   "cell_type": "code",
   "execution_count": null,
   "metadata": {
    "collapsed": true
   },
   "outputs": [],
   "source": []
  },
  {
   "cell_type": "code",
   "execution_count": null,
   "metadata": {
    "collapsed": true
   },
   "outputs": [],
   "source": []
  }
 ],
 "metadata": {
  "kernelspec": {
   "display_name": "Python 3",
   "language": "python",
   "name": "python3"
  },
  "language_info": {
   "codemirror_mode": {
    "name": "ipython",
    "version": 3
   },
   "file_extension": ".py",
   "mimetype": "text/x-python",
   "name": "python",
   "nbconvert_exporter": "python",
   "pygments_lexer": "ipython3",
   "version": "3.6.3"
  }
 },
 "nbformat": 4,
 "nbformat_minor": 2
}
